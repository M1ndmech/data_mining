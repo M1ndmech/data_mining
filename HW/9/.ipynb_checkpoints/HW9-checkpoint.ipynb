{
 "cells": [
  {
   "cell_type": "code",
   "execution_count": 36,
   "id": "62d46b94-3172-4879-ac79-4dcafe930ace",
   "metadata": {},
   "outputs": [
    {
     "name": "stderr",
     "output_type": "stream",
     "text": [
      "[nltk_data] Downloading package punkt to\n",
      "[nltk_data]     C:\\Users\\Alexey\\AppData\\Roaming\\nltk_data...\n",
      "[nltk_data]   Package punkt is already up-to-date!\n"
     ]
    }
   ],
   "source": [
    "import pandas as pd\n",
    "import numpy as np\n",
    "import nltk\n",
    "# Загружаем предобученную модель токенизации текста\n",
    "nltk.download('punkt')\n",
    "from textblob import TextBlob\n",
    "import matplotlib\n",
    "import multiprocessing"
   ]
  },
  {
   "cell_type": "code",
   "execution_count": 62,
   "id": "669a4a30-2249-4620-a786-449d3b87ee40",
   "metadata": {},
   "outputs": [],
   "source": [
    "from sklearn.model_selection import train_test_split\n",
    "from sklearn.preprocessing import LabelEncoder\n",
    "from sklearn.feature_extraction.text import TfidfVectorizer\n",
    "from sklearn.linear_model import LogisticRegression\n",
    "from sklearn.utils import shuffle\n",
    "from sklearn.metrics import f1_score\n",
    "from sklearn.metrics import accuracy_score"
   ]
  },
  {
   "cell_type": "markdown",
   "id": "456874f7-c3a5-478a-a1c0-61f2c3dbebc9",
   "metadata": {},
   "source": [
    "Задание 1.\n",
    "Выберите датасет, который имеет отношение к вашей области интересов или исследований. Датасет должен содержать неструктурированные данные, требующие разметки для решения конкретной задачи, например, анализа настроений или распознавания именованных сущностей."
   ]
  },
  {
   "cell_type": "code",
   "execution_count": 6,
   "id": "8dc4e88e-7ead-4266-9359-16d70aa488c9",
   "metadata": {},
   "outputs": [],
   "source": [
    "df = pd.read_json(r'C:\\Users\\Alexey\\Desktop\\GB\\Data_collection\\SW\\9\\kinopoisk.jsonl', lines=True)"
   ]
  },
  {
   "cell_type": "code",
   "execution_count": 33,
   "id": "94c80556-f777-4419-8ece-5bd99cf9132d",
   "metadata": {},
   "outputs": [
    {
     "data": {
      "text/html": [
       "<div>\n",
       "<style scoped>\n",
       "    .dataframe tbody tr th:only-of-type {\n",
       "        vertical-align: middle;\n",
       "    }\n",
       "\n",
       "    .dataframe tbody tr th {\n",
       "        vertical-align: top;\n",
       "    }\n",
       "\n",
       "    .dataframe thead th {\n",
       "        text-align: right;\n",
       "    }\n",
       "</style>\n",
       "<table border=\"1\" class=\"dataframe\">\n",
       "  <thead>\n",
       "    <tr style=\"text-align: right;\">\n",
       "      <th></th>\n",
       "      <th>part</th>\n",
       "      <th>movie_name</th>\n",
       "      <th>review_id</th>\n",
       "      <th>author</th>\n",
       "      <th>date</th>\n",
       "      <th>title</th>\n",
       "      <th>grade3</th>\n",
       "      <th>grade10</th>\n",
       "      <th>content</th>\n",
       "    </tr>\n",
       "  </thead>\n",
       "  <tbody>\n",
       "    <tr>\n",
       "      <th>0</th>\n",
       "      <td>top250</td>\n",
       "      <td>Блеф (1976)</td>\n",
       "      <td>17144</td>\n",
       "      <td>Come Back</td>\n",
       "      <td>2011-09-24</td>\n",
       "      <td>Плакали наши денежки ©</td>\n",
       "      <td>Good</td>\n",
       "      <td>10.0</td>\n",
       "      <td>\\n\"Блеф» — одна из моих самых любимых комедий....</td>\n",
       "    </tr>\n",
       "    <tr>\n",
       "      <th>1</th>\n",
       "      <td>top250</td>\n",
       "      <td>Блеф (1976)</td>\n",
       "      <td>17139</td>\n",
       "      <td>Stasiki</td>\n",
       "      <td>2008-03-04</td>\n",
       "      <td>None</td>\n",
       "      <td>Good</td>\n",
       "      <td>0.0</td>\n",
       "      <td>\\nАдриано Челентано продолжает радовать нас св...</td>\n",
       "    </tr>\n",
       "    <tr>\n",
       "      <th>2</th>\n",
       "      <td>top250</td>\n",
       "      <td>Блеф (1976)</td>\n",
       "      <td>17137</td>\n",
       "      <td>Flashman</td>\n",
       "      <td>2007-03-04</td>\n",
       "      <td>None</td>\n",
       "      <td>Good</td>\n",
       "      <td>10.0</td>\n",
       "      <td>\\nНесомненно, это один из великих фильмов 80-х...</td>\n",
       "    </tr>\n",
       "    <tr>\n",
       "      <th>3</th>\n",
       "      <td>top250</td>\n",
       "      <td>Блеф (1976)</td>\n",
       "      <td>17135</td>\n",
       "      <td>Sergio Tishin</td>\n",
       "      <td>2009-08-17</td>\n",
       "      <td>\" Черное, красное, ерунда это все. Выигрывает ...</td>\n",
       "      <td>Good</td>\n",
       "      <td>0.0</td>\n",
       "      <td>\\nЭта фраза на мой взгляд отражает сюжет несом...</td>\n",
       "    </tr>\n",
       "    <tr>\n",
       "      <th>4</th>\n",
       "      <td>top250</td>\n",
       "      <td>Блеф (1976)</td>\n",
       "      <td>17151</td>\n",
       "      <td>Фюльгья</td>\n",
       "      <td>2009-08-20</td>\n",
       "      <td>«Он хотел убежать? Да! Блеф, блеф…»</td>\n",
       "      <td>Neutral</td>\n",
       "      <td>7.0</td>\n",
       "      <td>\\n- как пела Земфира, скорее всего, по соверше...</td>\n",
       "    </tr>\n",
       "  </tbody>\n",
       "</table>\n",
       "</div>"
      ],
      "text/plain": [
       "     part   movie_name  review_id         author       date  \\\n",
       "0  top250  Блеф (1976)      17144      Come Back 2011-09-24   \n",
       "1  top250  Блеф (1976)      17139        Stasiki 2008-03-04   \n",
       "2  top250  Блеф (1976)      17137       Flashman 2007-03-04   \n",
       "3  top250  Блеф (1976)      17135  Sergio Tishin 2009-08-17   \n",
       "4  top250  Блеф (1976)      17151        Фюльгья 2009-08-20   \n",
       "\n",
       "                                               title   grade3  grade10  \\\n",
       "0                             Плакали наши денежки ©     Good     10.0   \n",
       "1                                               None     Good      0.0   \n",
       "2                                               None     Good     10.0   \n",
       "3  \" Черное, красное, ерунда это все. Выигрывает ...     Good      0.0   \n",
       "4                «Он хотел убежать? Да! Блеф, блеф…»  Neutral      7.0   \n",
       "\n",
       "                                             content  \n",
       "0  \\n\"Блеф» — одна из моих самых любимых комедий....  \n",
       "1  \\nАдриано Челентано продолжает радовать нас св...  \n",
       "2  \\nНесомненно, это один из великих фильмов 80-х...  \n",
       "3  \\nЭта фраза на мой взгляд отражает сюжет несом...  \n",
       "4  \\n- как пела Земфира, скорее всего, по соверше...  "
      ]
     },
     "execution_count": 33,
     "metadata": {},
     "output_type": "execute_result"
    }
   ],
   "source": [
    "df.head(5)"
   ]
  },
  {
   "cell_type": "code",
   "execution_count": 32,
   "id": "fb493e40-59d3-4234-85a5-b2cc9157eb66",
   "metadata": {},
   "outputs": [
    {
     "name": "stdout",
     "output_type": "stream",
     "text": [
      "<class 'pandas.core.frame.DataFrame'>\n",
      "RangeIndex: 36591 entries, 0 to 36590\n",
      "Data columns (total 9 columns):\n",
      " #   Column      Non-Null Count  Dtype         \n",
      "---  ------      --------------  -----         \n",
      " 0   part        36591 non-null  object        \n",
      " 1   movie_name  36591 non-null  object        \n",
      " 2   review_id   36591 non-null  int64         \n",
      " 3   author      35802 non-null  object        \n",
      " 4   date        36591 non-null  datetime64[ns]\n",
      " 5   title       27472 non-null  object        \n",
      " 6   grade3      36591 non-null  object        \n",
      " 7   grade10     36591 non-null  float64       \n",
      " 8   content     36591 non-null  object        \n",
      "dtypes: datetime64[ns](1), float64(1), int64(1), object(6)\n",
      "memory usage: 2.5+ MB\n"
     ]
    }
   ],
   "source": [
    "df.info()"
   ]
  },
  {
   "cell_type": "code",
   "execution_count": 12,
   "id": "9455ddb1-8ac2-4d3b-b0ba-bf6373b526b9",
   "metadata": {},
   "outputs": [],
   "source": [
    "tone_dict = pd.read_csv('kartaslovsent.csv', sep=';', on_bad_lines='skip')"
   ]
  },
  {
   "cell_type": "code",
   "execution_count": 14,
   "id": "90d71676-c041-42d9-aaa1-c801bbf0f0b3",
   "metadata": {},
   "outputs": [
    {
     "data": {
      "text/html": [
       "<div>\n",
       "<style scoped>\n",
       "    .dataframe tbody tr th:only-of-type {\n",
       "        vertical-align: middle;\n",
       "    }\n",
       "\n",
       "    .dataframe tbody tr th {\n",
       "        vertical-align: top;\n",
       "    }\n",
       "\n",
       "    .dataframe thead th {\n",
       "        text-align: right;\n",
       "    }\n",
       "</style>\n",
       "<table border=\"1\" class=\"dataframe\">\n",
       "  <thead>\n",
       "    <tr style=\"text-align: right;\">\n",
       "      <th></th>\n",
       "      <th>term</th>\n",
       "      <th>tag</th>\n",
       "      <th>value</th>\n",
       "      <th>pstv</th>\n",
       "      <th>ngtv</th>\n",
       "      <th>neut</th>\n",
       "      <th>dunno</th>\n",
       "      <th>pstvNgtvDisagreementRatio</th>\n",
       "    </tr>\n",
       "  </thead>\n",
       "  <tbody>\n",
       "    <tr>\n",
       "      <th>0</th>\n",
       "      <td>абажур</td>\n",
       "      <td>NEUT</td>\n",
       "      <td>0.08</td>\n",
       "      <td>0.185</td>\n",
       "      <td>0.037</td>\n",
       "      <td>0.580</td>\n",
       "      <td>0.198</td>\n",
       "      <td>0.00</td>\n",
       "    </tr>\n",
       "    <tr>\n",
       "      <th>1</th>\n",
       "      <td>аббатство</td>\n",
       "      <td>NEUT</td>\n",
       "      <td>0.10</td>\n",
       "      <td>0.192</td>\n",
       "      <td>0.038</td>\n",
       "      <td>0.578</td>\n",
       "      <td>0.192</td>\n",
       "      <td>0.00</td>\n",
       "    </tr>\n",
       "    <tr>\n",
       "      <th>2</th>\n",
       "      <td>аббревиатура</td>\n",
       "      <td>NEUT</td>\n",
       "      <td>0.08</td>\n",
       "      <td>0.196</td>\n",
       "      <td>0.000</td>\n",
       "      <td>0.630</td>\n",
       "      <td>0.174</td>\n",
       "      <td>0.00</td>\n",
       "    </tr>\n",
       "    <tr>\n",
       "      <th>3</th>\n",
       "      <td>абзац</td>\n",
       "      <td>NEUT</td>\n",
       "      <td>0.00</td>\n",
       "      <td>0.137</td>\n",
       "      <td>0.000</td>\n",
       "      <td>0.706</td>\n",
       "      <td>0.157</td>\n",
       "      <td>0.00</td>\n",
       "    </tr>\n",
       "    <tr>\n",
       "      <th>4</th>\n",
       "      <td>абиссинец</td>\n",
       "      <td>NEUT</td>\n",
       "      <td>0.28</td>\n",
       "      <td>0.151</td>\n",
       "      <td>0.113</td>\n",
       "      <td>0.245</td>\n",
       "      <td>0.491</td>\n",
       "      <td>0.19</td>\n",
       "    </tr>\n",
       "  </tbody>\n",
       "</table>\n",
       "</div>"
      ],
      "text/plain": [
       "           term   tag  value   pstv   ngtv   neut  dunno  \\\n",
       "0        абажур  NEUT   0.08  0.185  0.037  0.580  0.198   \n",
       "1     аббатство  NEUT   0.10  0.192  0.038  0.578  0.192   \n",
       "2  аббревиатура  NEUT   0.08  0.196  0.000  0.630  0.174   \n",
       "3         абзац  NEUT   0.00  0.137  0.000  0.706  0.157   \n",
       "4     абиссинец  NEUT   0.28  0.151  0.113  0.245  0.491   \n",
       "\n",
       "   pstvNgtvDisagreementRatio  \n",
       "0                       0.00  \n",
       "1                       0.00  \n",
       "2                       0.00  \n",
       "3                       0.00  \n",
       "4                       0.19  "
      ]
     },
     "execution_count": 14,
     "metadata": {},
     "output_type": "execute_result"
    }
   ],
   "source": [
    "tone_dict.head()"
   ]
  },
  {
   "cell_type": "code",
   "execution_count": 16,
   "id": "4bf9bc95-ad2f-4911-addc-ce1c63ff0c59",
   "metadata": {},
   "outputs": [
    {
     "name": "stdout",
     "output_type": "stream",
     "text": [
      "<class 'pandas.core.frame.DataFrame'>\n",
      "RangeIndex: 46127 entries, 0 to 46126\n",
      "Data columns (total 8 columns):\n",
      " #   Column                     Non-Null Count  Dtype  \n",
      "---  ------                     --------------  -----  \n",
      " 0   term                       46127 non-null  object \n",
      " 1   tag                        46127 non-null  object \n",
      " 2   value                      46127 non-null  float64\n",
      " 3   pstv                       46127 non-null  float64\n",
      " 4   ngtv                       46127 non-null  float64\n",
      " 5   neut                       46127 non-null  float64\n",
      " 6   dunno                      46127 non-null  float64\n",
      " 7   pstvNgtvDisagreementRatio  46127 non-null  float64\n",
      "dtypes: float64(6), object(2)\n",
      "memory usage: 2.8+ MB\n"
     ]
    }
   ],
   "source": [
    "tone_dict.info()"
   ]
  },
  {
   "cell_type": "markdown",
   "id": "d2a14de2-4ddc-48dc-bf16-cfefc827dd35",
   "metadata": {},
   "source": [
    "Задание 2.\n",
    "Выполните разметку на основе правил (rule-based labeling) на подмножестве выбранного датасета. Разработайте и реализуйте набор правил или условий, которые позволят автоматически присваивать метки данным на основе определенных шаблонов или критериев."
   ]
  },
  {
   "cell_type": "code",
   "execution_count": 18,
   "id": "e5813018-6a72-42cb-93cc-a239dc58908f",
   "metadata": {},
   "outputs": [],
   "source": [
    "def get_sentiment(text, df_td=tone_dict):\n",
    "\n",
    "    words = nltk.word_tokenize(text.lower())\n",
    "    sum_value = 0 \n",
    "    \n",
    "    for word in words:\n",
    "        if len(df_td[df_td.term == word]):\n",
    "            df_filtered = df_td[df_td['term'] == word]\n",
    "            value = df_filtered['value'].iloc[0]\n",
    "            sum_value += value\n",
    " \n",
    "    return sum_value\n",
    "\n",
    "\n",
    "def get_sentiment_label(score):\n",
    "    if score < -0.4:\n",
    "        return 'negative'  \n",
    "    elif score >= 0.4:\n",
    "        return 'positive' \n",
    "    else:\n",
    "        return 'neutral'"
   ]
  },
  {
   "cell_type": "code",
   "execution_count": 37,
   "id": "399745e2-bda7-4a0f-a2eb-0171405f13af",
   "metadata": {},
   "outputs": [],
   "source": [
    "df_train, df_test = train_test_split(df, train_size=0.05, random_state=104, shuffle=True)"
   ]
  },
  {
   "cell_type": "code",
   "execution_count": 38,
   "id": "3426c600-f69f-47bc-95c0-82afecc3c830",
   "metadata": {},
   "outputs": [
    {
     "name": "stdout",
     "output_type": "stream",
     "text": [
      "<class 'pandas.core.frame.DataFrame'>\n",
      "Index: 1829 entries, 13017 to 8261\n",
      "Data columns (total 9 columns):\n",
      " #   Column      Non-Null Count  Dtype         \n",
      "---  ------      --------------  -----         \n",
      " 0   part        1829 non-null   object        \n",
      " 1   movie_name  1829 non-null   object        \n",
      " 2   review_id   1829 non-null   int64         \n",
      " 3   author      1796 non-null   object        \n",
      " 4   date        1829 non-null   datetime64[ns]\n",
      " 5   title       1377 non-null   object        \n",
      " 6   grade3      1829 non-null   object        \n",
      " 7   grade10     1829 non-null   float64       \n",
      " 8   content     1829 non-null   object        \n",
      "dtypes: datetime64[ns](1), float64(1), int64(1), object(6)\n",
      "memory usage: 142.9+ KB\n"
     ]
    }
   ],
   "source": [
    "df_train.info()"
   ]
  },
  {
   "cell_type": "code",
   "execution_count": 39,
   "id": "047ab3f3-f11b-4b43-8fc1-9eb3849a81bd",
   "metadata": {},
   "outputs": [
    {
     "name": "stdout",
     "output_type": "stream",
     "text": [
      "<class 'pandas.core.frame.DataFrame'>\n",
      "Index: 34762 entries, 14253 to 20322\n",
      "Data columns (total 9 columns):\n",
      " #   Column      Non-Null Count  Dtype         \n",
      "---  ------      --------------  -----         \n",
      " 0   part        34762 non-null  object        \n",
      " 1   movie_name  34762 non-null  object        \n",
      " 2   review_id   34762 non-null  int64         \n",
      " 3   author      34006 non-null  object        \n",
      " 4   date        34762 non-null  datetime64[ns]\n",
      " 5   title       26095 non-null  object        \n",
      " 6   grade3      34762 non-null  object        \n",
      " 7   grade10     34762 non-null  float64       \n",
      " 8   content     34762 non-null  object        \n",
      "dtypes: datetime64[ns](1), float64(1), int64(1), object(6)\n",
      "memory usage: 2.7+ MB\n"
     ]
    }
   ],
   "source": [
    "df_test.info()"
   ]
  },
  {
   "cell_type": "code",
   "execution_count": 40,
   "id": "b219e416-8d6a-49ca-986c-ba72f23fcffa",
   "metadata": {},
   "outputs": [],
   "source": [
    "df_train['sentiment'] = df_train['content'].apply(get_sentiment)\n",
    "# Применение функции к столбцу 'sentiment' датасета для присвоения меток настроения\n",
    "df_train['sentiment_label'] = df_train['sentiment'].apply(get_sentiment_label)"
   ]
  },
  {
   "cell_type": "markdown",
   "id": "db6c23eb-0694-4503-8597-73fa9263b044",
   "metadata": {},
   "source": [
    "Задача 3.\n",
    "Выполните разметку вручную отдельного подмножества выбранного датасета с помощью выбранного вами инструмента разметки.\n"
   ]
  },
  {
   "cell_type": "code",
   "execution_count": 41,
   "id": "b8d3ab65-e614-4eac-872b-9b2cd72e7b1b",
   "metadata": {},
   "outputs": [],
   "source": [
    "df_test_cut, df_test = train_test_split(df, train_size=0.02, random_state=55, shuffle=True)"
   ]
  },
  {
   "cell_type": "code",
   "execution_count": 42,
   "id": "db591dfe-1da6-44a6-b016-b0e9087d23a8",
   "metadata": {},
   "outputs": [],
   "source": [
    "def f1(grade):\n",
    "    if grade == 'Good':\n",
    "        return 'positive'\n",
    "    elif grade == 'Bad':\n",
    "        return 'negative'\n",
    "    else:\n",
    "        return 'neutral'\n",
    "\n",
    "df_test_cut['sentiment'] = df_test_cut['grade3'].apply(f1)"
   ]
  },
  {
   "cell_type": "code",
   "execution_count": 43,
   "id": "e670d646-a68e-4615-8ce5-3ee4a6da22c9",
   "metadata": {},
   "outputs": [
    {
     "data": {
      "text/plain": [
       "sentiment\n",
       "positive    528\n",
       "negative    107\n",
       "neutral      96\n",
       "Name: count, dtype: int64"
      ]
     },
     "execution_count": 43,
     "metadata": {},
     "output_type": "execute_result"
    }
   ],
   "source": [
    "df_test_cut['sentiment'].value_counts()"
   ]
  },
  {
   "cell_type": "markdown",
   "id": "daf86a25-993d-43ac-aeaf-4641f94e0790",
   "metadata": {},
   "source": [
    "\n",
    "Задача 4.\n",
    "Объедините данные, размеченные вручную, с данными, размеченными на основе правил. Объедините два подмножества размеченных данных в один набор данных, сохранив при этом соответствующую структуру и целостность."
   ]
  },
  {
   "cell_type": "code",
   "execution_count": 44,
   "id": "0c84fe23-4b21-46a4-bdbb-80ce72f6a3ee",
   "metadata": {},
   "outputs": [
    {
     "name": "stdout",
     "output_type": "stream",
     "text": [
      "<class 'pandas.core.frame.DataFrame'>\n",
      "Index: 2560 entries, 13017 to 4762\n",
      "Data columns (total 11 columns):\n",
      " #   Column           Non-Null Count  Dtype         \n",
      "---  ------           --------------  -----         \n",
      " 0   part             2560 non-null   object        \n",
      " 1   movie_name       2560 non-null   object        \n",
      " 2   review_id        2560 non-null   int64         \n",
      " 3   author           2510 non-null   object        \n",
      " 4   date             2560 non-null   datetime64[ns]\n",
      " 5   title            1912 non-null   object        \n",
      " 6   grade3           2560 non-null   object        \n",
      " 7   grade10          2560 non-null   float64       \n",
      " 8   content          2560 non-null   object        \n",
      " 9   sentiment        2560 non-null   object        \n",
      " 10  sentiment_label  1829 non-null   object        \n",
      "dtypes: datetime64[ns](1), float64(1), int64(1), object(8)\n",
      "memory usage: 240.0+ KB\n"
     ]
    }
   ],
   "source": [
    "df_train_fin = pd.concat([df_train, df_test_cut])\n",
    "df_train_fin.info()"
   ]
  },
  {
   "cell_type": "code",
   "execution_count": 45,
   "id": "108b8ce0-eab7-41e6-a364-de7e4d6f7b41",
   "metadata": {},
   "outputs": [
    {
     "data": {
      "text/html": [
       "<div>\n",
       "<style scoped>\n",
       "    .dataframe tbody tr th:only-of-type {\n",
       "        vertical-align: middle;\n",
       "    }\n",
       "\n",
       "    .dataframe tbody tr th {\n",
       "        vertical-align: top;\n",
       "    }\n",
       "\n",
       "    .dataframe thead th {\n",
       "        text-align: right;\n",
       "    }\n",
       "</style>\n",
       "<table border=\"1\" class=\"dataframe\">\n",
       "  <thead>\n",
       "    <tr style=\"text-align: right;\">\n",
       "      <th></th>\n",
       "      <th>part</th>\n",
       "      <th>movie_name</th>\n",
       "      <th>review_id</th>\n",
       "      <th>author</th>\n",
       "      <th>date</th>\n",
       "      <th>title</th>\n",
       "      <th>grade3</th>\n",
       "      <th>grade10</th>\n",
       "      <th>sentiment</th>\n",
       "      <th>sentiment_label</th>\n",
       "    </tr>\n",
       "  </thead>\n",
       "  <tbody>\n",
       "    <tr>\n",
       "      <th>6626</th>\n",
       "      <td>top250</td>\n",
       "      <td>Секреты Лос-Анджелеса (1997)</td>\n",
       "      <td>25355</td>\n",
       "      <td>fox m</td>\n",
       "      <td>2009-04-18</td>\n",
       "      <td>Город греха</td>\n",
       "      <td>Good</td>\n",
       "      <td>9.0</td>\n",
       "      <td>25.08</td>\n",
       "      <td>positive</td>\n",
       "    </tr>\n",
       "    <tr>\n",
       "      <th>6306</th>\n",
       "      <td>top250</td>\n",
       "      <td>Зеленая миля (1999)</td>\n",
       "      <td>668</td>\n",
       "      <td>lyralyra</td>\n",
       "      <td>2009-07-01</td>\n",
       "      <td>Шедевр!</td>\n",
       "      <td>Neutral</td>\n",
       "      <td>0.0</td>\n",
       "      <td>2.8</td>\n",
       "      <td>positive</td>\n",
       "    </tr>\n",
       "    <tr>\n",
       "      <th>14446</th>\n",
       "      <td>top250</td>\n",
       "      <td>Мой сосед Тоторо (1988)</td>\n",
       "      <td>24485</td>\n",
       "      <td>ASLANOV</td>\n",
       "      <td>2009-10-17</td>\n",
       "      <td>None</td>\n",
       "      <td>Good</td>\n",
       "      <td>10.0</td>\n",
       "      <td>23.03</td>\n",
       "      <td>positive</td>\n",
       "    </tr>\n",
       "    <tr>\n",
       "      <th>3117</th>\n",
       "      <td>top250</td>\n",
       "      <td>Шерлок Холмс Игра теней (2011)</td>\n",
       "      <td>29030</td>\n",
       "      <td>ursulla_grant</td>\n",
       "      <td>2012-01-04</td>\n",
       "      <td>Я всё рассчитал!</td>\n",
       "      <td>Neutral</td>\n",
       "      <td>7.0</td>\n",
       "      <td>1.3</td>\n",
       "      <td>positive</td>\n",
       "    </tr>\n",
       "    <tr>\n",
       "      <th>16513</th>\n",
       "      <td>top250</td>\n",
       "      <td>Начало (2010)</td>\n",
       "      <td>2330</td>\n",
       "      <td>Bomomo</td>\n",
       "      <td>2011-06-03</td>\n",
       "      <td>10 из 10, и разве можно меньше поставить?</td>\n",
       "      <td>Good</td>\n",
       "      <td>10.0</td>\n",
       "      <td>6.09</td>\n",
       "      <td>positive</td>\n",
       "    </tr>\n",
       "  </tbody>\n",
       "</table>\n",
       "</div>"
      ],
      "text/plain": [
       "         part                      movie_name  review_id         author  \\\n",
       "6626   top250    Секреты Лос-Анджелеса (1997)      25355          fox m   \n",
       "6306   top250             Зеленая миля (1999)        668       lyralyra   \n",
       "14446  top250         Мой сосед Тоторо (1988)      24485        ASLANOV   \n",
       "3117   top250  Шерлок Холмс Игра теней (2011)      29030  ursulla_grant   \n",
       "16513  top250                   Начало (2010)       2330         Bomomo   \n",
       "\n",
       "            date                                      title   grade3  grade10  \\\n",
       "6626  2009-04-18                                Город греха     Good      9.0   \n",
       "6306  2009-07-01                                    Шедевр!  Neutral      0.0   \n",
       "14446 2009-10-17                                       None     Good     10.0   \n",
       "3117  2012-01-04                           Я всё рассчитал!  Neutral      7.0   \n",
       "16513 2011-06-03  10 из 10, и разве можно меньше поставить?     Good     10.0   \n",
       "\n",
       "      sentiment sentiment_label  \n",
       "6626      25.08        positive  \n",
       "6306        2.8        positive  \n",
       "14446     23.03        positive  \n",
       "3117        1.3        positive  \n",
       "16513      6.09        positive  "
      ]
     },
     "execution_count": 45,
     "metadata": {},
     "output_type": "execute_result"
    }
   ],
   "source": [
    "df_train_fin[df_train_fin.columns.drop('content')].sample(5)"
   ]
  },
  {
   "cell_type": "code",
   "execution_count": null,
   "id": "16d1ad78-19c0-4b8a-b7d2-057beedbc406",
   "metadata": {},
   "outputs": [],
   "source": []
  },
  {
   "cell_type": "markdown",
   "id": "890d07a0-9f46-4c97-89ed-e56d21c1b0eb",
   "metadata": {},
   "source": [
    "Задача 5.\n",
    "Обучите модель машинного обучения, используя объединенный набор размеченных данных. Разделите датасет на обучающий и тестовый наборы и используйте обучающий набор для обучения модели.\n"
   ]
  },
  {
   "cell_type": "code",
   "execution_count": 46,
   "id": "18dcc010-28cc-4e3c-9d61-276043134821",
   "metadata": {},
   "outputs": [],
   "source": [
    "movies = df_train_fin[['content', 'sentiment']].rename(columns={'content': 'text', 'sentiment': 'label'})"
   ]
  },
  {
   "cell_type": "code",
   "execution_count": 47,
   "id": "83e8b57e-a91a-4a20-8425-1b253207b6d9",
   "metadata": {},
   "outputs": [],
   "source": [
    "def f2(sentiment):\n",
    "    if sentiment == 'positive':\n",
    "        return 2\n",
    "    elif sentiment == 'negative':\n",
    "        return 1\n",
    "    else:\n",
    "        return 0\n",
    "\n",
    "movies['label'] = movies['label'].apply(f2)"
   ]
  },
  {
   "cell_type": "code",
   "execution_count": 48,
   "id": "9e699134-488a-4cfb-827a-2ae3e3a5c5e8",
   "metadata": {},
   "outputs": [
    {
     "data": {
      "text/plain": [
       "<Axes: >"
      ]
     },
     "execution_count": 48,
     "metadata": {},
     "output_type": "execute_result"
    },
    {
     "data": {
      "image/png": "[encoded data removed]",
      "text/plain": [
       "<Figure size 640x480 with 1 Axes>"
      ]
     },
     "metadata": {},
     "output_type": "display_data"
    }
   ],
   "source": [
    "movies['label'].hist()"
   ]
  },
  {
   "cell_type": "code",
   "execution_count": 81,
   "id": "ce447cd6-664f-4d27-8621-cb1ce3d22cff",
   "metadata": {},
   "outputs": [],
   "source": [
    "test = df_test[['content', 'grade3']].rename(columns={'content': 'text'})\n",
    "test['label'] = test['grade3'].apply(f1)"
   ]
  },
  {
   "cell_type": "code",
   "execution_count": 82,
   "id": "6e60651e-8ed5-4854-9427-3b1cec9298bc",
   "metadata": {},
   "outputs": [
    {
     "data": {
      "text/html": [
       "<div>\n",
       "<style scoped>\n",
       "    .dataframe tbody tr th:only-of-type {\n",
       "        vertical-align: middle;\n",
       "    }\n",
       "\n",
       "    .dataframe tbody tr th {\n",
       "        vertical-align: top;\n",
       "    }\n",
       "\n",
       "    .dataframe thead th {\n",
       "        text-align: right;\n",
       "    }\n",
       "</style>\n",
       "<table border=\"1\" class=\"dataframe\">\n",
       "  <thead>\n",
       "    <tr style=\"text-align: right;\">\n",
       "      <th></th>\n",
       "      <th>text</th>\n",
       "      <th>label</th>\n",
       "    </tr>\n",
       "  </thead>\n",
       "  <tbody>\n",
       "    <tr>\n",
       "      <th>9059</th>\n",
       "      <td>\\nТеатральный режиссер Стивен Долдри снял всег...</td>\n",
       "      <td>positive</td>\n",
       "    </tr>\n",
       "    <tr>\n",
       "      <th>7775</th>\n",
       "      <td>\\nГордыня\\nЗависть\\nЧревоугодие\\nПохоть\\nГнев\\...</td>\n",
       "      <td>positive</td>\n",
       "    </tr>\n",
       "    <tr>\n",
       "      <th>20550</th>\n",
       "      <td>\\nSaigon, shit. \\n\\nАмерика ведёт войну во Вье...</td>\n",
       "      <td>positive</td>\n",
       "    </tr>\n",
       "    <tr>\n",
       "      <th>1232</th>\n",
       "      <td>\\nНа экраны наконец-то вышел «ВАЛЛ-И», высоком...</td>\n",
       "      <td>neutral</td>\n",
       "    </tr>\n",
       "    <tr>\n",
       "      <th>12893</th>\n",
       "      <td>\\nО Боже… Как бы я себя ни уговаривала не плак...</td>\n",
       "      <td>positive</td>\n",
       "    </tr>\n",
       "  </tbody>\n",
       "</table>\n",
       "</div>"
      ],
      "text/plain": [
       "                                                    text     label\n",
       "9059   \\nТеатральный режиссер Стивен Долдри снял всег...  positive\n",
       "7775   \\nГордыня\\nЗависть\\nЧревоугодие\\nПохоть\\nГнев\\...  positive\n",
       "20550  \\nSaigon, shit. \\n\\nАмерика ведёт войну во Вье...  positive\n",
       "1232   \\nНа экраны наконец-то вышел «ВАЛЛ-И», высоком...   neutral\n",
       "12893  \\nО Боже… Как бы я себя ни уговаривала не плак...  positive"
      ]
     },
     "execution_count": 82,
     "metadata": {},
     "output_type": "execute_result"
    }
   ],
   "source": [
    "test = test.drop(columns=['grade3'])\n",
    "test.head()"
   ]
  },
  {
   "cell_type": "code",
   "execution_count": 83,
   "id": "52a86539-4c0d-4203-884c-9de5d8c3045e",
   "metadata": {},
   "outputs": [],
   "source": [
    "test['label'] = test['label'].apply(f2)"
   ]
  },
  {
   "cell_type": "code",
   "execution_count": 50,
   "id": "e9a3f6f8-1155-4e8b-a11a-6fbebdcb6c06",
   "metadata": {},
   "outputs": [],
   "source": [
    "def train_model(labeled_data):\n",
    "    # Векторизация текстовых данных с помощью TF-IDF\n",
    "    vectorizer = TfidfVectorizer()\n",
    "    X = vectorizer.fit_transform(labeled_data['text'])\n",
    "    y = labeled_data['label']\n",
    "\n",
    "    # Обучение модели логистической регрессии на размеченных данных\n",
    "    model = LogisticRegression()\n",
    "    model.fit(X, y)\n",
    "\n",
    "    return model, vectorizer\n",
    "\n",
    "model, vect = train_model(movies) "
   ]
  },
  {
   "cell_type": "markdown",
   "id": "8dfaf19a-f896-4c41-a53d-555a4e8d5739",
   "metadata": {},
   "source": [
    "Задача 6.\n",
    "Оценить эффективность обученной модели на тестовом датасете. Используйте подходящие метрики оценки. Интерпретируйте результаты и проанализируйте эффективность модели в решении задачи разметки."
   ]
  },
  {
   "cell_type": "code",
   "execution_count": 53,
   "id": "327a75a7-813a-4823-9efa-3218858fcafb",
   "metadata": {},
   "outputs": [
    {
     "data": {
      "text/html": [
       "<div>\n",
       "<style scoped>\n",
       "    .dataframe tbody tr th:only-of-type {\n",
       "        vertical-align: middle;\n",
       "    }\n",
       "\n",
       "    .dataframe tbody tr th {\n",
       "        vertical-align: top;\n",
       "    }\n",
       "\n",
       "    .dataframe thead th {\n",
       "        text-align: right;\n",
       "    }\n",
       "</style>\n",
       "<table border=\"1\" class=\"dataframe\">\n",
       "  <thead>\n",
       "    <tr style=\"text-align: right;\">\n",
       "      <th></th>\n",
       "      <th>part</th>\n",
       "      <th>movie_name</th>\n",
       "      <th>review_id</th>\n",
       "      <th>author</th>\n",
       "      <th>date</th>\n",
       "      <th>title</th>\n",
       "      <th>grade3</th>\n",
       "      <th>grade10</th>\n",
       "      <th>content</th>\n",
       "    </tr>\n",
       "  </thead>\n",
       "  <tbody>\n",
       "    <tr>\n",
       "      <th>9059</th>\n",
       "      <td>top250</td>\n",
       "      <td>Билли Эллиот (2000)</td>\n",
       "      <td>27080</td>\n",
       "      <td>ekorolev</td>\n",
       "      <td>2010-11-27</td>\n",
       "      <td>None</td>\n",
       "      <td>Good</td>\n",
       "      <td>10.0</td>\n",
       "      <td>\\nТеатральный режиссер Стивен Долдри снял всег...</td>\n",
       "    </tr>\n",
       "    <tr>\n",
       "      <th>7775</th>\n",
       "      <td>top250</td>\n",
       "      <td>Семь (1995)</td>\n",
       "      <td>10673</td>\n",
       "      <td>Natasha_Shadora</td>\n",
       "      <td>2011-10-23</td>\n",
       "      <td>«Мир - прекрасное место. За него стоит боротьс...</td>\n",
       "      <td>Good</td>\n",
       "      <td>8.0</td>\n",
       "      <td>\\nГордыня\\nЗависть\\nЧревоугодие\\nПохоть\\nГнев\\...</td>\n",
       "    </tr>\n",
       "    <tr>\n",
       "      <th>20550</th>\n",
       "      <td>top250</td>\n",
       "      <td>Апокалипсис сегодня (1979)</td>\n",
       "      <td>22425</td>\n",
       "      <td>FPS</td>\n",
       "      <td>2008-03-16</td>\n",
       "      <td>None</td>\n",
       "      <td>Good</td>\n",
       "      <td>0.0</td>\n",
       "      <td>\\nSaigon, shit. \\n\\nАмерика ведёт войну во Вье...</td>\n",
       "    </tr>\n",
       "    <tr>\n",
       "      <th>1232</th>\n",
       "      <td>top250</td>\n",
       "      <td>ВАЛЛ·И (2008)</td>\n",
       "      <td>7606</td>\n",
       "      <td>KRYS333</td>\n",
       "      <td>2009-03-27</td>\n",
       "      <td>None</td>\n",
       "      <td>Neutral</td>\n",
       "      <td>0.0</td>\n",
       "      <td>\\nНа экраны наконец-то вышел «ВАЛЛ-И», высоком...</td>\n",
       "    </tr>\n",
       "    <tr>\n",
       "      <th>12893</th>\n",
       "      <td>top250</td>\n",
       "      <td>Хатико Самый верный друг (2009)</td>\n",
       "      <td>7938</td>\n",
       "      <td>Aide</td>\n",
       "      <td>2009-10-23</td>\n",
       "      <td>Самый верный друг.</td>\n",
       "      <td>Good</td>\n",
       "      <td>0.0</td>\n",
       "      <td>\\nО Боже… Как бы я себя ни уговаривала не плак...</td>\n",
       "    </tr>\n",
       "  </tbody>\n",
       "</table>\n",
       "</div>"
      ],
      "text/plain": [
       "         part                       movie_name  review_id           author  \\\n",
       "9059   top250              Билли Эллиот (2000)      27080         ekorolev   \n",
       "7775   top250                      Семь (1995)      10673  Natasha_Shadora   \n",
       "20550  top250       Апокалипсис сегодня (1979)      22425              FPS   \n",
       "1232   top250                    ВАЛЛ·И (2008)       7606          KRYS333   \n",
       "12893  top250  Хатико Самый верный друг (2009)       7938             Aide   \n",
       "\n",
       "            date                                              title   grade3  \\\n",
       "9059  2010-11-27                                               None     Good   \n",
       "7775  2011-10-23  «Мир - прекрасное место. За него стоит боротьс...     Good   \n",
       "20550 2008-03-16                                               None     Good   \n",
       "1232  2009-03-27                                               None  Neutral   \n",
       "12893 2009-10-23                                 Самый верный друг.     Good   \n",
       "\n",
       "       grade10                                            content  \n",
       "9059      10.0  \\nТеатральный режиссер Стивен Долдри снял всег...  \n",
       "7775       8.0  \\nГордыня\\nЗависть\\nЧревоугодие\\nПохоть\\nГнев\\...  \n",
       "20550      0.0  \\nSaigon, shit. \\n\\nАмерика ведёт войну во Вье...  \n",
       "1232       0.0  \\nНа экраны наконец-то вышел «ВАЛЛ-И», высоком...  \n",
       "12893      0.0  \\nО Боже… Как бы я себя ни уговаривала не плак...  "
      ]
     },
     "execution_count": 53,
     "metadata": {},
     "output_type": "execute_result"
    }
   ],
   "source": [
    "df_test.head()"
   ]
  },
  {
   "cell_type": "code",
   "execution_count": 84,
   "id": "0d57c985-cbb1-4185-8665-8dfee7ffa4a2",
   "metadata": {},
   "outputs": [],
   "source": [
    "x_test = vect.transform(test['text'])\n",
    "y_test_predicted = model.predict(x_test)"
   ]
  },
  {
   "cell_type": "code",
   "execution_count": 85,
   "id": "8420ce7e-a276-4427-96fd-fcb1864309bc",
   "metadata": {},
   "outputs": [],
   "source": [
    "y_proba = model.predict_proba(x_test)                         # Вероятности встречаемости слов\n",
    "uncertainty = -(y_proba * np.log2(y_proba)).sum(axis=1)"
   ]
  },
  {
   "cell_type": "code",
   "execution_count": 86,
   "id": "b0e74e0d-d1f9-4092-a621-7ffaa027ed7c",
   "metadata": {},
   "outputs": [
    {
     "name": "stdout",
     "output_type": "stream",
     "text": [
      "<class 'pandas.core.frame.DataFrame'>\n",
      "Index: 35860 entries, 9059 to 13520\n",
      "Data columns (total 2 columns):\n",
      " #   Column  Non-Null Count  Dtype \n",
      "---  ------  --------------  ----- \n",
      " 0   text    35860 non-null  object\n",
      " 1   label   35860 non-null  int64 \n",
      "dtypes: int64(1), object(1)\n",
      "memory usage: 1.8+ MB\n"
     ]
    }
   ],
   "source": [
    "test.info()"
   ]
  },
  {
   "cell_type": "code",
   "execution_count": 87,
   "id": "c009bc03-f1c8-43bf-97e0-defb7aab9a37",
   "metadata": {},
   "outputs": [
    {
     "name": "stdout",
     "output_type": "stream",
     "text": [
      "0.12490239821528165\n"
     ]
    }
   ],
   "source": [
    "f1 = f1_score(test['label'], y_test_predicted, average='micro')\n",
    "\n",
    "print(f1)"
   ]
  },
  {
   "cell_type": "markdown",
   "id": "e7c15890-db2b-4bd8-8e26-8ade386ad6e6",
   "metadata": {},
   "source": [
    "Точность крайне низкая, потребуется переобучение модели."
   ]
  }
 ],
 "metadata": {
  "kernelspec": {
   "display_name": "Python 3 (ipykernel)",
   "language": "python",
   "name": "python3"
  },
  "language_info": {
   "codemirror_mode": {
    "name": "ipython",
    "version": 3
   },
   "file_extension": ".py",
   "mimetype": "text/x-python",
   "name": "python",
   "nbconvert_exporter": "python",
   "pygments_lexer": "ipython3",
   "version": "3.11.9"
  }
 },
 "nbformat": 4,
 "nbformat_minor": 5
}
